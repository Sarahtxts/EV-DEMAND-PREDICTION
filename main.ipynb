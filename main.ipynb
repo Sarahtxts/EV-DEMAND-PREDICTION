{
 "cells": [
  {
   "cell_type": "code",
   "execution_count": 31,
   "id": "d17f531b",
   "metadata": {},
   "outputs": [],
   "source": [
    "#import all necessary libraries\n",
    "import joblib\n",
    "import numpy as np\n",
    "import pandas as pd\n",
    "import seaborn as sns\n",
    "import matplotlib.pyplot as plt\n",
    "from sklearn.preprocessing import LabelEncoder\n",
    "from sklearn.ensemble import RandomForestRegressor\n",
    "from sklearn.model_selection import train_test_split\n",
    "from sklearn.model_selection import RandomizedSearchCV\n",
    "from sklearn.metrics import mean_absolute_error, mean_squared_error, r2_score"
   ]
  },
  {
   "cell_type": "code",
   "execution_count": 32,
   "id": "343b2c8e",
   "metadata": {},
   "outputs": [
    {
     "data": {
      "text/html": [
       "<div>\n",
       "<style scoped>\n",
       "    .dataframe tbody tr th:only-of-type {\n",
       "        vertical-align: middle;\n",
       "    }\n",
       "\n",
       "    .dataframe tbody tr th {\n",
       "        vertical-align: top;\n",
       "    }\n",
       "\n",
       "    .dataframe thead th {\n",
       "        text-align: right;\n",
       "    }\n",
       "</style>\n",
       "<table border=\"1\" class=\"dataframe\">\n",
       "  <thead>\n",
       "    <tr style=\"text-align: right;\">\n",
       "      <th></th>\n",
       "      <th>Date</th>\n",
       "      <th>County</th>\n",
       "      <th>State</th>\n",
       "      <th>Vehicle Primary Use</th>\n",
       "      <th>Battery Electric Vehicles (BEVs)</th>\n",
       "      <th>Plug-In Hybrid Electric Vehicles (PHEVs)</th>\n",
       "      <th>Electric Vehicle (EV) Total</th>\n",
       "      <th>Non-Electric Vehicle Total</th>\n",
       "      <th>Total Vehicles</th>\n",
       "      <th>Percent Electric Vehicles</th>\n",
       "    </tr>\n",
       "  </thead>\n",
       "  <tbody>\n",
       "    <tr>\n",
       "      <th>0</th>\n",
       "      <td>September 30 2022</td>\n",
       "      <td>Riverside</td>\n",
       "      <td>CA</td>\n",
       "      <td>Passenger</td>\n",
       "      <td>7</td>\n",
       "      <td>0</td>\n",
       "      <td>7</td>\n",
       "      <td>460</td>\n",
       "      <td>467</td>\n",
       "      <td>1.50</td>\n",
       "    </tr>\n",
       "    <tr>\n",
       "      <th>1</th>\n",
       "      <td>December 31 2022</td>\n",
       "      <td>Prince William</td>\n",
       "      <td>VA</td>\n",
       "      <td>Passenger</td>\n",
       "      <td>1</td>\n",
       "      <td>2</td>\n",
       "      <td>3</td>\n",
       "      <td>188</td>\n",
       "      <td>191</td>\n",
       "      <td>1.57</td>\n",
       "    </tr>\n",
       "    <tr>\n",
       "      <th>2</th>\n",
       "      <td>January 31 2020</td>\n",
       "      <td>Dakota</td>\n",
       "      <td>MN</td>\n",
       "      <td>Passenger</td>\n",
       "      <td>0</td>\n",
       "      <td>1</td>\n",
       "      <td>1</td>\n",
       "      <td>32</td>\n",
       "      <td>33</td>\n",
       "      <td>3.03</td>\n",
       "    </tr>\n",
       "    <tr>\n",
       "      <th>3</th>\n",
       "      <td>June 30 2022</td>\n",
       "      <td>Ferry</td>\n",
       "      <td>WA</td>\n",
       "      <td>Truck</td>\n",
       "      <td>0</td>\n",
       "      <td>0</td>\n",
       "      <td>0</td>\n",
       "      <td>3,575</td>\n",
       "      <td>3,575</td>\n",
       "      <td>0.00</td>\n",
       "    </tr>\n",
       "    <tr>\n",
       "      <th>4</th>\n",
       "      <td>July 31 2021</td>\n",
       "      <td>Douglas</td>\n",
       "      <td>CO</td>\n",
       "      <td>Passenger</td>\n",
       "      <td>0</td>\n",
       "      <td>1</td>\n",
       "      <td>1</td>\n",
       "      <td>83</td>\n",
       "      <td>84</td>\n",
       "      <td>1.19</td>\n",
       "    </tr>\n",
       "  </tbody>\n",
       "</table>\n",
       "</div>"
      ],
      "text/plain": [
       "                Date          County State Vehicle Primary Use  \\\n",
       "0  September 30 2022       Riverside    CA           Passenger   \n",
       "1   December 31 2022  Prince William    VA           Passenger   \n",
       "2    January 31 2020          Dakota    MN           Passenger   \n",
       "3       June 30 2022           Ferry    WA               Truck   \n",
       "4       July 31 2021         Douglas    CO           Passenger   \n",
       "\n",
       "  Battery Electric Vehicles (BEVs) Plug-In Hybrid Electric Vehicles (PHEVs)  \\\n",
       "0                                7                                        0   \n",
       "1                                1                                        2   \n",
       "2                                0                                        1   \n",
       "3                                0                                        0   \n",
       "4                                0                                        1   \n",
       "\n",
       "  Electric Vehicle (EV) Total Non-Electric Vehicle Total Total Vehicles  \\\n",
       "0                           7                        460            467   \n",
       "1                           3                        188            191   \n",
       "2                           1                         32             33   \n",
       "3                           0                      3,575          3,575   \n",
       "4                           1                         83             84   \n",
       "\n",
       "   Percent Electric Vehicles  \n",
       "0                       1.50  \n",
       "1                       1.57  \n",
       "2                       3.03  \n",
       "3                       0.00  \n",
       "4                       1.19  "
      ]
     },
     "execution_count": 32,
     "metadata": {},
     "output_type": "execute_result"
    }
   ],
   "source": [
    "df=pd.read_csv('EV_dataset.csv')\n",
    "df.head()"
   ]
  },
  {
   "cell_type": "code",
   "execution_count": 33,
   "id": "f3de9a7c",
   "metadata": {},
   "outputs": [
    {
     "data": {
      "text/plain": [
       "(20819, 10)"
      ]
     },
     "execution_count": 33,
     "metadata": {},
     "output_type": "execute_result"
    }
   ],
   "source": [
    "df.shape"
   ]
  },
  {
   "cell_type": "code",
   "execution_count": 34,
   "id": "dc7d8f50",
   "metadata": {},
   "outputs": [
    {
     "name": "stdout",
     "output_type": "stream",
     "text": [
      "<class 'pandas.core.frame.DataFrame'>\n",
      "RangeIndex: 20819 entries, 0 to 20818\n",
      "Data columns (total 10 columns):\n",
      " #   Column                                    Non-Null Count  Dtype  \n",
      "---  ------                                    --------------  -----  \n",
      " 0   Date                                      20819 non-null  object \n",
      " 1   County                                    20733 non-null  object \n",
      " 2   State                                     20733 non-null  object \n",
      " 3   Vehicle Primary Use                       20819 non-null  object \n",
      " 4   Battery Electric Vehicles (BEVs)          20819 non-null  object \n",
      " 5   Plug-In Hybrid Electric Vehicles (PHEVs)  20819 non-null  object \n",
      " 6   Electric Vehicle (EV) Total               20819 non-null  object \n",
      " 7   Non-Electric Vehicle Total                20819 non-null  object \n",
      " 8   Total Vehicles                            20819 non-null  object \n",
      " 9   Percent Electric Vehicles                 20819 non-null  float64\n",
      "dtypes: float64(1), object(9)\n",
      "memory usage: 1.6+ MB\n"
     ]
    }
   ],
   "source": [
    "df.info()"
   ]
  },
  {
   "cell_type": "code",
   "execution_count": 35,
   "id": "b3d860e7",
   "metadata": {},
   "outputs": [
    {
     "data": {
      "text/plain": [
       "Date                                         0\n",
       "County                                      86\n",
       "State                                       86\n",
       "Vehicle Primary Use                          0\n",
       "Battery Electric Vehicles (BEVs)             0\n",
       "Plug-In Hybrid Electric Vehicles (PHEVs)     0\n",
       "Electric Vehicle (EV) Total                  0\n",
       "Non-Electric Vehicle Total                   0\n",
       "Total Vehicles                               0\n",
       "Percent Electric Vehicles                    0\n",
       "dtype: int64"
      ]
     },
     "execution_count": 35,
     "metadata": {},
     "output_type": "execute_result"
    }
   ],
   "source": [
    "df.isnull().sum()"
   ]
  },
  {
   "cell_type": "code",
   "execution_count": 36,
   "id": "0c6716b9",
   "metadata": {},
   "outputs": [
    {
     "name": "stdout",
     "output_type": "stream",
     "text": [
      "Q1: 0.39\n",
      "Q2: 1.22\n",
      "Q3: 2.995\n",
      "Q4: 100.0\n",
      "lower_bound: -3.5174999999999996\n",
      "upper_bound: 6.9025\n",
      "Number of outliers in 'Percent Electric Vehicles': 2476\n"
     ]
    }
   ],
   "source": [
    "# Compute Q1, Q2, Q3 AND Q4\n",
    "Q1 = df['Percent Electric Vehicles'].quantile(0.25)\n",
    "Q2 = df['Percent Electric Vehicles'].quantile(0.50)\n",
    "Q3 = df['Percent Electric Vehicles'].quantile(0.75)\n",
    "Q4 = df['Percent Electric Vehicles'].quantile(1.00)\n",
    "print('Q1:', Q1)\n",
    "print('Q2:', Q2)\n",
    "print('Q3:', Q3)\n",
    "print('Q4:', Q4)\n",
    "IQR = Q3 - Q1\n",
    "\n",
    "# Define outlier boundaries\n",
    "lower_bound = Q1 - 1.5 * IQR\n",
    "upper_bound = Q3 + 1.5 * IQR\n",
    "print('lower_bound:', lower_bound)\n",
    "print('upper_bound:', upper_bound)\n",
    "\n",
    "# Identify outliers\n",
    "outliers = df[(df['Percent Electric Vehicles'] < lower_bound) | (df['Percent Electric Vehicles'] > upper_bound)]\n",
    "print(\"Number of outliers in 'Percent Electric Vehicles':\", outliers.shape[0])"
   ]
  },
  {
   "cell_type": "code",
   "execution_count": 37,
   "id": "7342ecff",
   "metadata": {},
   "outputs": [
    {
     "name": "stdout",
     "output_type": "stream",
     "text": [
      "\n",
      "Data types after cleaning numeric columns:\n",
      "\n",
      "Battery Electric Vehicles (BEVs)            int64\n",
      "Plug-In Hybrid Electric Vehicles (PHEVs)    int64\n",
      "Electric Vehicle (EV) Total                 int64\n",
      "Non-Electric Vehicle Total                  int64\n",
      "Total Vehicles                              int64\n",
      "dtype: object\n"
     ]
    }
   ],
   "source": [
    "# Convert 'Date' to datetime\n",
    "df['Date'] = pd.to_datetime(df['Date'], errors='coerce')\n",
    "\n",
    "# Remove rows where 'Date' conversion failed\n",
    "df = df[df['Date'].notnull()]\n",
    "\n",
    "# Clean and convert numeric columns\n",
    "numeric_columns = [\n",
    "    \"Battery Electric Vehicles (BEVs)\",\n",
    "    \"Plug-In Hybrid Electric Vehicles (PHEVs)\",\n",
    "    \"Electric Vehicle (EV) Total\",\n",
    "    \"Non-Electric Vehicle Total\",\n",
    "    \"Total Vehicles\"\n",
    "]\n",
    "\n",
    "for col in numeric_columns:\n",
    "    df[col] = df[col].astype(str).str.replace(',', '', regex=False)\n",
    "    df[col] = pd.to_numeric(df[col], errors='coerce')\n",
    "\n",
    "# Check the updated datatypes\n",
    "print(\"\\nData types after cleaning numeric columns:\\n\")\n",
    "print(df[numeric_columns].dtypes)\n"
   ]
  },
  {
   "cell_type": "code",
   "execution_count": 38,
   "id": "d609cb3a",
   "metadata": {},
   "outputs": [
    {
     "name": "stdout",
     "output_type": "stream",
     "text": [
      "\n",
      "Missing values after filling 'County' and 'State':\n",
      "\n",
      "County    0\n",
      "State     0\n",
      "dtype: int64\n"
     ]
    },
    {
     "name": "stderr",
     "output_type": "stream",
     "text": [
      "C:\\Users\\sarah\\AppData\\Local\\Temp\\ipykernel_23420\\2393736436.py:2: FutureWarning: A value is trying to be set on a copy of a DataFrame or Series through chained assignment using an inplace method.\n",
      "The behavior will change in pandas 3.0. This inplace method will never work because the intermediate object on which we are setting values always behaves as a copy.\n",
      "\n",
      "For example, when doing 'df[col].method(value, inplace=True)', try using 'df.method({col: value}, inplace=True)' or df[col] = df[col].method(value) instead, to perform the operation inplace on the original object.\n",
      "\n",
      "\n",
      "  df['County'].fillna(df['County'].mode()[0], inplace=True)\n",
      "C:\\Users\\sarah\\AppData\\Local\\Temp\\ipykernel_23420\\2393736436.py:3: FutureWarning: A value is trying to be set on a copy of a DataFrame or Series through chained assignment using an inplace method.\n",
      "The behavior will change in pandas 3.0. This inplace method will never work because the intermediate object on which we are setting values always behaves as a copy.\n",
      "\n",
      "For example, when doing 'df[col].method(value, inplace=True)', try using 'df.method({col: value}, inplace=True)' or df[col] = df[col].method(value) instead, to perform the operation inplace on the original object.\n",
      "\n",
      "\n",
      "  df['State'].fillna(df['State'].mode()[0], inplace=True)\n"
     ]
    }
   ],
   "source": [
    "# Fill missing 'County' and 'State' with mode (most frequent value)\n",
    "df['County'].fillna(df['County'].mode()[0], inplace=True)\n",
    "df['State'].fillna(df['State'].mode()[0], inplace=True)\n",
    "\n",
    "# Check for remaining missing values\n",
    "print(\"\\nMissing values after filling 'County' and 'State':\\n\")\n",
    "print(df[['County', 'State']].isnull().sum())\n"
   ]
  },
  {
   "cell_type": "code",
   "execution_count": 39,
   "id": "b57a350e",
   "metadata": {},
   "outputs": [
    {
     "name": "stdout",
     "output_type": "stream",
     "text": [
      "\n",
      "Capped 'Percent Electric Vehicles' to 1st–99th percentile:\n",
      "New min: 0.00, max: 50.00\n",
      "Remaining outliers outside quantiles: 0\n"
     ]
    }
   ],
   "source": [
    "# Calculate quantile caps\n",
    "lower = df['Percent Electric Vehicles'].quantile(0.01)\n",
    "upper = df['Percent Electric Vehicles'].quantile(0.99)\n",
    "\n",
    "# Cap the outliers (Winsorization)\n",
    "df['Percent Electric Vehicles'] = df['Percent Electric Vehicles'].clip(lower, upper)\n",
    "\n",
    "# Print capped value range and number of remaining outliers\n",
    "print(\"\\nCapped 'Percent Electric Vehicles' to 1st–99th percentile:\")\n",
    "print(f\"New min: {df['Percent Electric Vehicles'].min():.2f}, max: {df['Percent Electric Vehicles'].max():.2f}\")\n",
    "\n",
    "# Check outliers beyond new bounds\n",
    "outliers = df[(df['Percent Electric Vehicles'] < lower) | (df['Percent Electric Vehicles'] > upper)]\n",
    "print(f\"Remaining outliers outside quantiles: {outliers.shape[0]}\")\n"
   ]
  },
  {
   "cell_type": "code",
   "execution_count": 41,
   "id": "f2207cee",
   "metadata": {},
   "outputs": [
    {
     "name": "stdout",
     "output_type": "stream",
     "text": [
      "\n",
      "Final dataset info after preprocessing:\n",
      "\n",
      "<class 'pandas.core.frame.DataFrame'>\n",
      "RangeIndex: 20819 entries, 0 to 20818\n",
      "Data columns (total 10 columns):\n",
      " #   Column                                    Non-Null Count  Dtype         \n",
      "---  ------                                    --------------  -----         \n",
      " 0   Date                                      20819 non-null  datetime64[ns]\n",
      " 1   County                                    20819 non-null  object        \n",
      " 2   State                                     20819 non-null  object        \n",
      " 3   Vehicle Primary Use                       20819 non-null  object        \n",
      " 4   Battery Electric Vehicles (BEVs)          20819 non-null  int64         \n",
      " 5   Plug-In Hybrid Electric Vehicles (PHEVs)  20819 non-null  int64         \n",
      " 6   Electric Vehicle (EV) Total               20819 non-null  int64         \n",
      " 7   Non-Electric Vehicle Total                20819 non-null  int64         \n",
      " 8   Total Vehicles                            20819 non-null  int64         \n",
      " 9   Percent Electric Vehicles                 20819 non-null  float64       \n",
      "dtypes: datetime64[ns](1), float64(1), int64(5), object(3)\n",
      "memory usage: 1.6+ MB\n",
      "None\n",
      "\n",
      "Preview of cleaned data:\n",
      "\n",
      "        Date          County State Vehicle Primary Use  \\\n",
      "0 2022-09-30       Riverside    CA           Passenger   \n",
      "1 2022-12-31  Prince William    VA           Passenger   \n",
      "2 2020-01-31          Dakota    MN           Passenger   \n",
      "3 2022-06-30           Ferry    WA               Truck   \n",
      "4 2021-07-31         Douglas    CO           Passenger   \n",
      "\n",
      "   Battery Electric Vehicles (BEVs)  Plug-In Hybrid Electric Vehicles (PHEVs)  \\\n",
      "0                                 7                                         0   \n",
      "1                                 1                                         2   \n",
      "2                                 0                                         1   \n",
      "3                                 0                                         0   \n",
      "4                                 0                                         1   \n",
      "\n",
      "   Electric Vehicle (EV) Total  Non-Electric Vehicle Total  Total Vehicles  \\\n",
      "0                            7                         460             467   \n",
      "1                            3                         188             191   \n",
      "2                            1                          32              33   \n",
      "3                            0                        3575            3575   \n",
      "4                            1                          83              84   \n",
      "\n",
      "   Percent Electric Vehicles  \n",
      "0                       1.50  \n",
      "1                       1.57  \n",
      "2                       3.03  \n",
      "3                       0.00  \n",
      "4                       1.19  \n"
     ]
    }
   ],
   "source": [
    "# Summary of cleaned dataset\n",
    "print(\"\\nFinal dataset info after preprocessing:\\n\")\n",
    "print(df.info())\n",
    "\n",
    "# Preview a few rows\n",
    "print(\"\\nPreview of cleaned data:\\n\")\n",
    "print(df.head())\n"
   ]
  }
 ],
 "metadata": {
  "kernelspec": {
   "display_name": "Python 3",
   "language": "python",
   "name": "python3"
  },
  "language_info": {
   "codemirror_mode": {
    "name": "ipython",
    "version": 3
   },
   "file_extension": ".py",
   "mimetype": "text/x-python",
   "name": "python",
   "nbconvert_exporter": "python",
   "pygments_lexer": "ipython3",
   "version": "3.13.3"
  }
 },
 "nbformat": 4,
 "nbformat_minor": 5
}
